{
  "nbformat": 4,
  "nbformat_minor": 0,
  "metadata": {
    "colab": {
      "provenance": []
    },
    "kernelspec": {
      "name": "python3",
      "display_name": "Python 3"
    },
    "language_info": {
      "name": "python"
    }
  },
  "cells": [
    {
      "cell_type": "markdown",
      "source": [
        "^FILES, EXCEPTIONAL HANDLING, LOGGING AND MEMORY MANAGEMENT"
      ],
      "metadata": {
        "id": "Y4M_Q-wjER0u"
      }
    },
    {
      "cell_type": "markdown",
      "source": [
        "Question 1:- what is defference between interpreted and compiled language?"
      ],
      "metadata": {
        "id": "wLvXoDZfEsdo"
      }
    },
    {
      "cell_type": "markdown",
      "source": [
        "Answer:- COMPLILED LANGUAGE:- The entire program is translated into machine code (binary) befre execution by a compiler. It is faster because CPU executes already translated machine code.\n",
        "INTERPRETED LANGUAGE:- code is read and executed line-by-line by an interpreter at runtime. it is slower because traslation happens before execution."
      ],
      "metadata": {
        "id": "cNtwqsDPFBFX"
      }
    },
    {
      "cell_type": "markdown",
      "source": [
        "Question 2:- What is exeption handling in python?\n",
        "\n",
        "Answer:- Exeption handling in python is a way of detect and manage errors during program execution without crashing the program. It lets you write code that responds gracefully when something goes wrong (like file not found, division by zero, invalid input etc.)."
      ],
      "metadata": {
        "id": "pBC8M_wZG6Ho"
      }
    },
    {
      "cell_type": "markdown",
      "source": [
        "Question 3:- What is the purpose of finally block in exeption handling?\n",
        "\n",
        "Answer:- The finally block is used to write code that run no matter what happens- whether there is exeption or not. It is guaranteed to execute after the try and except blocks finish."
      ],
      "metadata": {
        "id": "4qiyKVpCIXBq"
      }
    },
    {
      "cell_type": "markdown",
      "source": [
        "Question 4:- What is logging in python?\n",
        "\n",
        "Answer:- Logging in python is built- in way to record events, messages or errors that that happens while your program runs. It helps you  track what is happening in your code without using a bunch of print() statements."
      ],
      "metadata": {
        "id": "LFK426jwIR7W"
      }
    },
    {
      "cell_type": "markdown",
      "source": [
        "Question 5:- What is the significance of the __del__ method in python?\n",
        "\n",
        "Answer:- __del__ is a special method in python known as a destructor. It is automatically called when an object is about to be destroyed (garbage collected). you use it to clean up resources like files, network connections, momory etc. before the object is removed from the memory."
      ],
      "metadata": {
        "id": "c_YnA-2iKnVC"
      }
    },
    {
      "cell_type": "markdown",
      "source": [
        "Question 6:- What is the difference between import and from ...import in python?\n",
        "\n",
        "Answer:- Both are used to bring code from another module into your current python file, but they differ in how you access that code.\n",
        "import- is like bringing the entire toolbox and picking tools by their names (toolbox.hammer).\n",
        "from ...import- is like taking only the hammer out of the toolbox, so you can use it directly(hammer)."
      ],
      "metadata": {
        "id": "ywbU_3-mLwjt"
      }
    },
    {
      "cell_type": "markdown",
      "source": [
        "Question 7:- How you can handle multiple exception in python?\n",
        "\n",
        "Answer:- When a piece of code might raise different types of errors, you can handle each one seperately to give more meaningful messages and recovery steps. you can use multiple except blocks to handle different types of exceptions. you can specify multiple exceptions in a single except blocks. you can also catch all exceptions by using the base exception class."
      ],
      "metadata": {
        "id": "lbH1CQKHNfH3"
      }
    },
    {
      "cell_type": "markdown",
      "source": [
        "Question 8:- What is the purpose of the with statement when handling files in python?\n",
        "\n",
        "Answer:- The with statement is used to open and work with files or other resourses safely- it automatically closes the file when you are done even if an error occurs. it is part of python's context menager feature."
      ],
      "metadata": {
        "id": "ClkL9636SQP5"
      }
    },
    {
      "cell_type": "markdown",
      "source": [
        "Question 9:- What is the difference between multithreading and multiprocessing?\n",
        "\n",
        "Answer:- Both are techniques for running multiple tasks concurrently, but they differ how they share resources and how they run.\n",
        "Multithreading runs on multiple threads inside the same process where all threads share the same memory space.\n",
        "Multiprocessing runs multiple processes, each with its own python interpreter and memory space where processes do not share memory"
      ],
      "metadata": {
        "id": "f-2teE8NTwnm"
      }
    },
    {
      "cell_type": "markdown",
      "source": [
        "Question 10:- What are the advantages of using logging in a program?\n",
        "\n",
        "Answer:- It makes debugging easy, it keeps persistent record of events, it keeps output options flexible, it has different severity levels, it is non intrusive, it has better maintainability, and it keeps thread and process safe."
      ],
      "metadata": {
        "id": "I5jzS9OUWfJf"
      }
    },
    {
      "cell_type": "markdown",
      "source": [
        "Question 11:- What is memory management in python?\n",
        "\n",
        "Answer:- Memory management in python is the process of allocating, using, and freeing memory while your program runs. Python does this automatically using its built-in memory manager and garbage collector."
      ],
      "metadata": {
        "id": "WnCEHboFYxcH"
      }
    },
    {
      "cell_type": "markdown",
      "source": [
        "Question 12:-What are the basic steps involved in exception handling in python?\n",
        "\n",
        "Answer:- identify risky code - catch the exception - handle success case - clean up - continue or exit gracefully - flow of execution"
      ],
      "metadata": {
        "id": "Mbnd1vkDZ0wE"
      }
    },
    {
      "cell_type": "markdown",
      "source": [
        "Question 13:- Why is memory management important in python?\n",
        "\n",
        "Answer:- prevents memory leaks - improves performance - allows bigger programs to run - ensures reliability - supports multitasking."
      ],
      "metadata": {
        "id": "gACdArj9bbHu"
      }
    },
    {
      "cell_type": "markdown",
      "source": [
        "Question 14:- What is the role of try and except in exception handling?\n",
        "\n",
        "Answer:- try block- detect and test for errors(contains the risky code that might cause an exception).\n",
        "except block- handle errors(contains the code to run when an error occurs in the try block) and flow of execution"
      ],
      "metadata": {
        "id": "CxL0rtwRciHa"
      }
    },
    {
      "cell_type": "markdown",
      "source": [
        "Question 15:- How does python's garbage collection system works?\n",
        "\n",
        "Answer:- Python's garbage collection system automatically frees memory by removing objects that are no longer in use, so the programmers dont have to manually manage memory like in c or c++.\n",
        "Its primary method is reference counting where every object in python has reference count or number of variables pointing to it.\n",
        "python uses a cyclic garbage collector to detect and remove obects which sometimes reference each other, making reference count non-zero even if they are unused."
      ],
      "metadata": {
        "id": "16TBHgPIeaaV"
      }
    },
    {
      "cell_type": "markdown",
      "source": [
        "Question 16:- What is the purpose of the else block in exception handling?\n",
        "\n",
        "Answer:- in Python's try-except structure, the else block is used to write code that should run only if no exception occurs in the try block."
      ],
      "metadata": {
        "id": "LFwO72LsgS6h"
      }
    },
    {
      "cell_type": "markdown",
      "source": [
        "Question 17:- what are the common logging levels in python?\n",
        "\n",
        "Answer:- debug - info - warning - error - critical"
      ],
      "metadata": {
        "id": "p9DGuCl6ivTv"
      }
    },
    {
      "cell_type": "markdown",
      "source": [
        "Question 18:- What is the difference between os.fork() and multiprocessing in python?\n",
        "\n",
        "Answer:- os.fork() creates a child process by duplicating the current process while multiprocessing provides a high-level API for creating and managing multiple processes.\n",
        "os.fork() is low-level, needs manual handling of communications and synchronization between processes while multiprocessing is high-level, handles inter-process communication, process pools,queues,etc.\n"
      ],
      "metadata": {
        "id": "UKRav8vVjz8R"
      }
    },
    {
      "cell_type": "markdown",
      "source": [
        "Question 19:- What is the importance of closing file in python?\n",
        "\n",
        "Answer:- closing a file in python is critical for proper resource management, data integrity, and application stability. It frees system resources, ensures data is written to disk, prevents file locking issues, improves program stability etc."
      ],
      "metadata": {
        "id": "UMavK2NJzhEW"
      }
    },
    {
      "cell_type": "markdown",
      "source": [
        "Question 20:- What is the difference between file.read() and file.readline() in python?\n",
        "\n",
        "Answer:- FILE.READ() reads the entire file into a single string. it is called without an argument, it loads everything from the current file position to the end.\n",
        "FILE.READLINE() reads one line from the file at a time, including the newline character\\n. It is useful when reading files line by line without loading everything into memory."
      ],
      "metadata": {
        "id": "2ehoGOuo1J0N"
      }
    },
    {
      "cell_type": "markdown",
      "source": [
        "Question 21:- what is the logging module in python used for?\n",
        "\n",
        "Answer:- The logging module in python is used to record (log) messages from your program during execution. it helps developers monitor, debug, and track events and errors without using print() statements."
      ],
      "metadata": {
        "id": "7oLJ0mEc2ukn"
      }
    },
    {
      "cell_type": "markdown",
      "source": [
        "Question 22:- What is the os module in python used for in file handling?\n",
        "\n",
        "Answer:- the os module in python provides functions to interact with the operating system, including creating, deleting, and managing files and directories."
      ],
      "metadata": {
        "id": "0k8FoAz34AHX"
      }
    },
    {
      "cell_type": "markdown",
      "source": [
        "Question 23:- What are the challanges associated with memory management in python?\n",
        "\n",
        "Answer:- Memory leaks - circular references - high memory usage for large datasets - unnecessary object retention - fragmentation - delayed garbage collection - external resources."
      ],
      "metadata": {
        "id": "hd391CJj5D7W"
      }
    },
    {
      "cell_type": "markdown",
      "source": [
        "Question 24:- How do you raise an exception manually in python?\n",
        "\n",
        "Answer:- raise ExceptionType(\"OPTIONAL ERROR MESSAGE\")"
      ],
      "metadata": {
        "id": "XP26LN1u6eXT"
      }
    },
    {
      "cell_type": "markdown",
      "source": [
        "Question 25:- Why it is important to use multithreading in crtain applications?\n",
        "\n",
        "Answer:- Multithreading is important in certain applications because it allows multiple tasks to run \"seemingly\" at the same time within a single process, which can improve responsiveness and efficiency."
      ],
      "metadata": {
        "id": "sHu5DiKJ7PjP"
      }
    },
    {
      "cell_type": "markdown",
      "source": [
        "^PRACTICAL QUESTIONS"
      ],
      "metadata": {
        "id": "dDFPzNG84h5c"
      }
    },
    {
      "cell_type": "markdown",
      "source": [
        "Question 1:- How can you open a file for writing in python and write a string to it?"
      ],
      "metadata": {
        "id": "htAZ3PMR4pMZ"
      }
    },
    {
      "cell_type": "code",
      "source": [
        "file = open(\"example.txt\", \"w\")\n",
        "file.write(\"HELLO, THIS IS A TEST STRING.\")\n",
        "file.close()"
      ],
      "metadata": {
        "id": "HEw26eTP48So"
      },
      "execution_count": 1,
      "outputs": []
    },
    {
      "cell_type": "markdown",
      "source": [
        "Question 2:- write a python program to read the content of a file and print each line."
      ],
      "metadata": {
        "id": "8UPZFcHl5lte"
      }
    },
    {
      "cell_type": "code",
      "source": [
        "with open(\"example.txt\", \"r\") as file:\n",
        "    for line in file:\n",
        "        print(line.strip())"
      ],
      "metadata": {
        "colab": {
          "base_uri": "https://localhost:8080/"
        },
        "id": "yVsp_wN752tl",
        "outputId": "70eaf84f-ec88-4f41-b71d-71bc3385e7ee"
      },
      "execution_count": 2,
      "outputs": [
        {
          "output_type": "stream",
          "name": "stdout",
          "text": [
            "HELLO, THIS IS A TEST STRING.\n"
          ]
        }
      ]
    },
    {
      "cell_type": "markdown",
      "source": [
        "Question 3:- How would you handle a case where where the file does not exist while trying to open it for reading?"
      ],
      "metadata": {
        "id": "QHfsSszl7epI"
      }
    },
    {
      "cell_type": "code",
      "source": [
        "try:\n",
        "    with open(\"example.txt\", \"r\") as file:\n",
        "        for line in file:\n",
        "            print(line.strip())\n",
        "except FileNotFoundError:\n",
        "    print(\"ERROR: The file does not exist.\")"
      ],
      "metadata": {
        "colab": {
          "base_uri": "https://localhost:8080/"
        },
        "id": "JUpQhjtb7xQi",
        "outputId": "0480a6fd-ab33-40fc-b7b9-cc31227d7069"
      },
      "execution_count": 3,
      "outputs": [
        {
          "output_type": "stream",
          "name": "stdout",
          "text": [
            "HELLO, THIS IS A TEST STRING.\n"
          ]
        }
      ]
    },
    {
      "cell_type": "markdown",
      "source": [
        "Question 4:- write a python script that reads from one file and write its content to another file"
      ],
      "metadata": {
        "id": "dExmNaf69FK-"
      }
    },
    {
      "cell_type": "code",
      "source": [
        "try:\n",
        "    with open(\"source.txt\", \"r\") as src_file:\n",
        "        content = src_file.read()\n",
        "    with open(\"destination.txt\", \"w\") as dest_file:\n",
        "        dest_file.write(content)\n",
        "    print(\"File copied successfully.\")\n",
        "except FileNotFoundError:\n",
        "    print(\"ERROR: Source file does not exist.\")"
      ],
      "metadata": {
        "colab": {
          "base_uri": "https://localhost:8080/"
        },
        "id": "PehpTt2_9gUf",
        "outputId": "bd10430b-ef3d-430a-c34b-f211d0d905f8"
      },
      "execution_count": 4,
      "outputs": [
        {
          "output_type": "stream",
          "name": "stdout",
          "text": [
            "ERROR: Source file does not exist.\n"
          ]
        }
      ]
    },
    {
      "cell_type": "markdown",
      "source": [
        "Question 5:- How would you catch and handle division by zero error in python?"
      ],
      "metadata": {
        "id": "p5l5Akk8-6YE"
      }
    },
    {
      "cell_type": "code",
      "source": [
        "try:\n",
        "    num = 10\n",
        "    den = 0\n",
        "    result = num / den\n",
        "    print(\"Result:\", result)\n",
        "except ZeroDivisionError:\n",
        "    print(\"ERROR: Division by zero is not allowed.\")"
      ],
      "metadata": {
        "colab": {
          "base_uri": "https://localhost:8080/"
        },
        "id": "1NjcM3Vs_cRx",
        "outputId": "b30cbdac-aeec-469b-f562-15006a892100"
      },
      "execution_count": 5,
      "outputs": [
        {
          "output_type": "stream",
          "name": "stdout",
          "text": [
            "ERROR: Division by zero is not allowed.\n"
          ]
        }
      ]
    },
    {
      "cell_type": "markdown",
      "source": [
        "Question 6:- write a python program that logs an error message to a log file when a division by zero exception occurs."
      ],
      "metadata": {
        "id": "aXHNQch9ATvS"
      }
    },
    {
      "cell_type": "code",
      "source": [
        "import logging\n",
        "logging.basicConfig(filename=\"error.log\", level=logging.ERROR, format=\"%(asctime)s -%(levelname)s - %(message)s\")\n",
        "try:\n",
        "    num = 10\n",
        "    den = 0\n",
        "    result = num / den\n",
        "    print(\"Result:\", result)\n",
        "except ZeroDivisionError as e:\n",
        "    logging.error(\"Division by zero occured: %s\", e)\n",
        "    print(\"An error occured. Please check 'error.log' for details.\")"
      ],
      "metadata": {
        "colab": {
          "base_uri": "https://localhost:8080/"
        },
        "id": "Bxg8vNmEAtEC",
        "outputId": "9d509180-c51c-4c30-c797-25476d867752"
      },
      "execution_count": 6,
      "outputs": [
        {
          "output_type": "stream",
          "name": "stderr",
          "text": [
            "ERROR:root:Division by zero occured: division by zero\n"
          ]
        },
        {
          "output_type": "stream",
          "name": "stdout",
          "text": [
            "An error occured. Please check 'error.log' for details.\n"
          ]
        }
      ]
    },
    {
      "cell_type": "markdown",
      "source": [
        "Question 7:-How do you log informations at different levels (info, errors, warning) in python using the logging module?"
      ],
      "metadata": {
        "id": "i7yV_qPP5BAN"
      }
    },
    {
      "cell_type": "code",
      "source": [
        "import logging\n",
        "logging.basicConfig(filename=\"application.log\", level=logging.DEBUG, format=\"%(asctime)s - %(levelname)s - %(message)s\")\n",
        "logging.info(\"This is an INFO message – program started successfully.\")\n",
        "logging.warning(\"This is a WARNING – disk space running low.\")\n",
        "logging.error(\"This is an ERROR – failed to connect to the database.\")"
      ],
      "metadata": {
        "colab": {
          "base_uri": "https://localhost:8080/"
        },
        "id": "jMvAxYiv5nk0",
        "outputId": "8fe33917-c21d-414b-9a91-1d011e845b72"
      },
      "execution_count": 1,
      "outputs": [
        {
          "output_type": "stream",
          "name": "stderr",
          "text": [
            "WARNING:root:This is a WARNING – disk space running low.\n",
            "ERROR:root:This is an ERROR – failed to connect to the database.\n"
          ]
        }
      ]
    },
    {
      "cell_type": "markdown",
      "source": [
        "Question 8:- write a program to handle a file opening error using exception handling"
      ],
      "metadata": {
        "id": "WG5GgtI74I5X"
      }
    },
    {
      "cell_type": "code",
      "source": [
        "try:\n",
        "    with open(\"non_existing_file.txt\", \"r\") as file:\n",
        "        content = file.read()\n",
        "        print(content)\n",
        "except FileNotFoundError:\n",
        "    print(\"ERROR: The file you are trying to open does not exist.\")\n",
        "except PermissionError:\n",
        "    print(\"ERROR: You don't have permission to read this file.\")\n",
        "except Exception as e:\n",
        "    print(f\"AN UNEXPECTED ERROR OCCURRED: {e}\")"
      ],
      "metadata": {
        "colab": {
          "base_uri": "https://localhost:8080/"
        },
        "id": "zcplkYj64yel",
        "outputId": "0d7703d3-7494-458f-a19b-d4319e337727"
      },
      "execution_count": 2,
      "outputs": [
        {
          "output_type": "stream",
          "name": "stdout",
          "text": [
            "ERROR: The file you are trying to open does not exist.\n"
          ]
        }
      ]
    },
    {
      "cell_type": "markdown",
      "source": [
        "Question 9:- how can you read a file line by line and store its content in a list in python?"
      ],
      "metadata": {
        "id": "TW-_trKjEOJa"
      }
    },
    {
      "cell_type": "code",
      "source": [
        "try:\n",
        "    open(\"sample.txt\", \"r\").close()\n",
        "except FileNotFoundError:\n",
        "    with open(\"sample.txt\", \"w\") as f:\n",
        "        f.write(\"Apple\\nBanana\\nCherry\\nMango\")\n",
        "with open(\"sample.txt\", \"r\") as file:\n",
        "    lines = file.readlines()\n",
        "lines = [line.strip() for line in lines]\n",
        "\n",
        "print(lines)"
      ],
      "metadata": {
        "colab": {
          "base_uri": "https://localhost:8080/"
        },
        "id": "kAvdymzyEeYq",
        "outputId": "4c9047db-fa77-4980-db28-a8ede6dac4a5"
      },
      "execution_count": 5,
      "outputs": [
        {
          "output_type": "stream",
          "name": "stdout",
          "text": [
            "['Apple', 'Banana', 'Cherry', 'Mango']\n"
          ]
        }
      ]
    },
    {
      "cell_type": "markdown",
      "source": [
        "Question 10:- how can you append data to an existing file in python?"
      ],
      "metadata": {
        "id": "truyA9vQGjGM"
      }
    },
    {
      "cell_type": "code",
      "source": [
        "with open(\"sample.txt\", \"a\") as file:\n",
        "    file.write(\"\\nOrange\")\n",
        "print(\"Data appended successfully!\")"
      ],
      "metadata": {
        "colab": {
          "base_uri": "https://localhost:8080/"
        },
        "id": "PO7KpVbVGy3c",
        "outputId": "dd10adc9-4dfc-455d-ee56-c7f6c55288fa"
      },
      "execution_count": 6,
      "outputs": [
        {
          "output_type": "stream",
          "name": "stdout",
          "text": [
            "Data appended successfully!\n"
          ]
        }
      ]
    },
    {
      "cell_type": "markdown",
      "source": [
        "Quesion 11:- Write a Python program that uses a type-except clause to handle an error when attempting to access the dictionary key that does not exist."
      ],
      "metadata": {
        "id": "Qqyivj8aHNSe"
      }
    },
    {
      "cell_type": "code",
      "source": [
        "my_dict = {\"name\": \"Alice\", \"age\": 25}\n",
        "try:\n",
        "    value = my_dict[\"address\"]\n",
        "    print(\"Address:\", value)\n",
        "except KeyError:\n",
        "    print(\"ERROR: The key 'address' does not exist in the dictionary.\")"
      ],
      "metadata": {
        "colab": {
          "base_uri": "https://localhost:8080/"
        },
        "id": "mJMaSXhAHnns",
        "outputId": "76e83739-62dc-4bb7-8b14-f4ff0dcf7774"
      },
      "execution_count": 7,
      "outputs": [
        {
          "output_type": "stream",
          "name": "stdout",
          "text": [
            "ERROR: The key 'address' does not exist in the dictionary.\n"
          ]
        }
      ]
    },
    {
      "cell_type": "markdown",
      "source": [
        "Question 12:- Write a program that demonstrate using multiple except blocks to handle different types of exceptions."
      ],
      "metadata": {
        "id": "tdaIFLleH_T2"
      }
    },
    {
      "cell_type": "code",
      "source": [
        "numbers = [10, 20, 30]\n",
        "data = {\"a\": 1, \"b\": 2}\n",
        "try:\n",
        "    print(numbers[5])\n",
        "except IndexError:\n",
        "    print(\"INDEX ERROR: LIST INDEX OUT OF RANGE.\")\n",
        "try:\n",
        "    print(data[\"z\"])\n",
        "except KeyError:\n",
        "    print(\"KEY ERROR: SPECIFIED KEY NOT FOUND.\")"
      ],
      "metadata": {
        "colab": {
          "base_uri": "https://localhost:8080/"
        },
        "id": "eZAbe0_jhq7S",
        "outputId": "766ecb09-13ae-4fc3-9282-80956359f6b0"
      },
      "execution_count": 23,
      "outputs": [
        {
          "output_type": "stream",
          "name": "stdout",
          "text": [
            "INDEX ERROR: LIST INDEX OUT OF RANGE.\n",
            "KEY ERROR: SPECIFIED KEY NOT FOUND.\n"
          ]
        }
      ]
    },
    {
      "cell_type": "markdown",
      "source": [
        "Question 13:- How would you check if a file exists before attempting to read it in python?"
      ],
      "metadata": {
        "id": "25ZFM9EXJ75K"
      }
    },
    {
      "cell_type": "code",
      "source": [
        "import os\n",
        "file_path = \"myfile.txt\"\n",
        "if os.path.exists(file_path):\n",
        "    with open(file_path, \"r\") as file:\n",
        "        print(file.read())\n",
        "else:\n",
        "    print(\"File does not exist.\")"
      ],
      "metadata": {
        "colab": {
          "base_uri": "https://localhost:8080/"
        },
        "id": "DEvCgjmqKN6p",
        "outputId": "97b018d0-dfb5-4ece-ae27-ac5fec654843"
      },
      "execution_count": 13,
      "outputs": [
        {
          "output_type": "stream",
          "name": "stdout",
          "text": [
            "File does not exist.\n"
          ]
        }
      ]
    },
    {
      "cell_type": "markdown",
      "source": [
        "Question 14:- wrotw a program that uses the logging module to log both informational and error messages"
      ],
      "metadata": {
        "id": "q6NrUzHELyv3"
      }
    },
    {
      "cell_type": "code",
      "source": [
        "import logging\n",
        "logging.basicConfig(filename=\"app.log\", level=logging.INFO, format=\"%(levelname)s:%(message)s\")\n",
        "a, b = 10, 0\n",
        "logging.info(f\"Numbers entered: {a}, {b}\")\n",
        "print(f\"Numbers entered: {a}, {b}\")\n",
        "try:\n",
        "    result = a / b\n",
        "    print(\"Result:\", result)\n",
        "    logging.info(f\"Result: {result}\")\n",
        "except ZeroDivisionError:\n",
        "    print(\"Error: Cannot divide by zero!\")\n",
        "    logging.error(\"Division by zero error\")"
      ],
      "metadata": {
        "colab": {
          "base_uri": "https://localhost:8080/"
        },
        "id": "y7PD5OQ4MM_W",
        "outputId": "04a6e379-58e0-44c9-e5db-a52cb608569a"
      },
      "execution_count": 15,
      "outputs": [
        {
          "output_type": "stream",
          "name": "stderr",
          "text": [
            "ERROR:root:Division by zero error\n"
          ]
        },
        {
          "output_type": "stream",
          "name": "stdout",
          "text": [
            "Numbers entered: 10, 0\n",
            "Error: Cannot divide by zero!\n"
          ]
        }
      ]
    },
    {
      "cell_type": "markdown",
      "source": [
        "Question 15:- Write a python program that prints the content of a file and handle the case when the file is empty"
      ],
      "metadata": {
        "id": "NqQxbFUkNLis"
      }
    },
    {
      "cell_type": "code",
      "source": [
        "filename = \"sample.txt\"\n",
        "try:\n",
        "    with open(filename, \"r\") as file:\n",
        "        content = file.read()\n",
        "        if content.strip():\n",
        "            print(\"FILE CONTENT:\")\n",
        "            print(content)\n",
        "        else:\n",
        "            print(\"THE FILE IS EMPTY.\")\n",
        "except FileNotFoundError:\n",
        "    print(f\"ERROR: THE FILE '{filename}' WAS NOT FOUND.\")"
      ],
      "metadata": {
        "colab": {
          "base_uri": "https://localhost:8080/"
        },
        "id": "QKdb-_DLXvS9",
        "outputId": "d2f15763-abb9-420f-ecfd-4459430f61c2"
      },
      "execution_count": 1,
      "outputs": [
        {
          "output_type": "stream",
          "name": "stdout",
          "text": [
            "ERROR: THE FILE 'sample.txt' WAS NOT FOUND.\n"
          ]
        }
      ]
    },
    {
      "cell_type": "markdown",
      "source": [
        "Question 16:- demonstrate how to use memory profiling to check the memory usage of a small program"
      ],
      "metadata": {
        "id": "THkUcseCYT91"
      }
    },
    {
      "cell_type": "code",
      "source": [
        "!pip install memory-profiler\n",
        "from memory_profiler import profile\n",
        "@profile\n",
        "def create_list():\n",
        "    data = [i for i in range(1000000)]\n",
        "    return data\n",
        "create_list()"
      ],
      "metadata": {
        "colab": {
          "base_uri": "https://localhost:8080/"
        },
        "id": "kap8850va9ps",
        "outputId": "b2a3df45-6949-430f-cb32-167658922899"
      },
      "execution_count": 12,
      "outputs": [
        {
          "output_type": "stream",
          "name": "stdout",
          "text": [
            "Requirement already satisfied: memory-profiler in /usr/local/lib/python3.11/dist-packages (0.61.0)\n",
            "Requirement already satisfied: psutil in /usr/local/lib/python3.11/dist-packages (from memory-profiler) (5.9.5)\n",
            "ERROR: Could not find file /tmp/ipython-input-601360219.py\n"
          ]
        },
        {
          "output_type": "execute_result",
          "data": {
            "text/plain": [
              "[0,\n",
              " 1,\n",
              " 2,\n",
              " 3,\n",
              " 4,\n",
              " 5,\n",
              " 6,\n",
              " 7,\n",
              " 8,\n",
              " 9,\n",
              " 10,\n",
              " 11,\n",
              " 12,\n",
              " 13,\n",
              " 14,\n",
              " 15,\n",
              " 16,\n",
              " 17,\n",
              " 18,\n",
              " 19,\n",
              " 20,\n",
              " 21,\n",
              " 22,\n",
              " 23,\n",
              " 24,\n",
              " 25,\n",
              " 26,\n",
              " 27,\n",
              " 28,\n",
              " 29,\n",
              " 30,\n",
              " 31,\n",
              " 32,\n",
              " 33,\n",
              " 34,\n",
              " 35,\n",
              " 36,\n",
              " 37,\n",
              " 38,\n",
              " 39,\n",
              " 40,\n",
              " 41,\n",
              " 42,\n",
              " 43,\n",
              " 44,\n",
              " 45,\n",
              " 46,\n",
              " 47,\n",
              " 48,\n",
              " 49,\n",
              " 50,\n",
              " 51,\n",
              " 52,\n",
              " 53,\n",
              " 54,\n",
              " 55,\n",
              " 56,\n",
              " 57,\n",
              " 58,\n",
              " 59,\n",
              " 60,\n",
              " 61,\n",
              " 62,\n",
              " 63,\n",
              " 64,\n",
              " 65,\n",
              " 66,\n",
              " 67,\n",
              " 68,\n",
              " 69,\n",
              " 70,\n",
              " 71,\n",
              " 72,\n",
              " 73,\n",
              " 74,\n",
              " 75,\n",
              " 76,\n",
              " 77,\n",
              " 78,\n",
              " 79,\n",
              " 80,\n",
              " 81,\n",
              " 82,\n",
              " 83,\n",
              " 84,\n",
              " 85,\n",
              " 86,\n",
              " 87,\n",
              " 88,\n",
              " 89,\n",
              " 90,\n",
              " 91,\n",
              " 92,\n",
              " 93,\n",
              " 94,\n",
              " 95,\n",
              " 96,\n",
              " 97,\n",
              " 98,\n",
              " 99,\n",
              " 100,\n",
              " 101,\n",
              " 102,\n",
              " 103,\n",
              " 104,\n",
              " 105,\n",
              " 106,\n",
              " 107,\n",
              " 108,\n",
              " 109,\n",
              " 110,\n",
              " 111,\n",
              " 112,\n",
              " 113,\n",
              " 114,\n",
              " 115,\n",
              " 116,\n",
              " 117,\n",
              " 118,\n",
              " 119,\n",
              " 120,\n",
              " 121,\n",
              " 122,\n",
              " 123,\n",
              " 124,\n",
              " 125,\n",
              " 126,\n",
              " 127,\n",
              " 128,\n",
              " 129,\n",
              " 130,\n",
              " 131,\n",
              " 132,\n",
              " 133,\n",
              " 134,\n",
              " 135,\n",
              " 136,\n",
              " 137,\n",
              " 138,\n",
              " 139,\n",
              " 140,\n",
              " 141,\n",
              " 142,\n",
              " 143,\n",
              " 144,\n",
              " 145,\n",
              " 146,\n",
              " 147,\n",
              " 148,\n",
              " 149,\n",
              " 150,\n",
              " 151,\n",
              " 152,\n",
              " 153,\n",
              " 154,\n",
              " 155,\n",
              " 156,\n",
              " 157,\n",
              " 158,\n",
              " 159,\n",
              " 160,\n",
              " 161,\n",
              " 162,\n",
              " 163,\n",
              " 164,\n",
              " 165,\n",
              " 166,\n",
              " 167,\n",
              " 168,\n",
              " 169,\n",
              " 170,\n",
              " 171,\n",
              " 172,\n",
              " 173,\n",
              " 174,\n",
              " 175,\n",
              " 176,\n",
              " 177,\n",
              " 178,\n",
              " 179,\n",
              " 180,\n",
              " 181,\n",
              " 182,\n",
              " 183,\n",
              " 184,\n",
              " 185,\n",
              " 186,\n",
              " 187,\n",
              " 188,\n",
              " 189,\n",
              " 190,\n",
              " 191,\n",
              " 192,\n",
              " 193,\n",
              " 194,\n",
              " 195,\n",
              " 196,\n",
              " 197,\n",
              " 198,\n",
              " 199,\n",
              " 200,\n",
              " 201,\n",
              " 202,\n",
              " 203,\n",
              " 204,\n",
              " 205,\n",
              " 206,\n",
              " 207,\n",
              " 208,\n",
              " 209,\n",
              " 210,\n",
              " 211,\n",
              " 212,\n",
              " 213,\n",
              " 214,\n",
              " 215,\n",
              " 216,\n",
              " 217,\n",
              " 218,\n",
              " 219,\n",
              " 220,\n",
              " 221,\n",
              " 222,\n",
              " 223,\n",
              " 224,\n",
              " 225,\n",
              " 226,\n",
              " 227,\n",
              " 228,\n",
              " 229,\n",
              " 230,\n",
              " 231,\n",
              " 232,\n",
              " 233,\n",
              " 234,\n",
              " 235,\n",
              " 236,\n",
              " 237,\n",
              " 238,\n",
              " 239,\n",
              " 240,\n",
              " 241,\n",
              " 242,\n",
              " 243,\n",
              " 244,\n",
              " 245,\n",
              " 246,\n",
              " 247,\n",
              " 248,\n",
              " 249,\n",
              " 250,\n",
              " 251,\n",
              " 252,\n",
              " 253,\n",
              " 254,\n",
              " 255,\n",
              " 256,\n",
              " 257,\n",
              " 258,\n",
              " 259,\n",
              " 260,\n",
              " 261,\n",
              " 262,\n",
              " 263,\n",
              " 264,\n",
              " 265,\n",
              " 266,\n",
              " 267,\n",
              " 268,\n",
              " 269,\n",
              " 270,\n",
              " 271,\n",
              " 272,\n",
              " 273,\n",
              " 274,\n",
              " 275,\n",
              " 276,\n",
              " 277,\n",
              " 278,\n",
              " 279,\n",
              " 280,\n",
              " 281,\n",
              " 282,\n",
              " 283,\n",
              " 284,\n",
              " 285,\n",
              " 286,\n",
              " 287,\n",
              " 288,\n",
              " 289,\n",
              " 290,\n",
              " 291,\n",
              " 292,\n",
              " 293,\n",
              " 294,\n",
              " 295,\n",
              " 296,\n",
              " 297,\n",
              " 298,\n",
              " 299,\n",
              " 300,\n",
              " 301,\n",
              " 302,\n",
              " 303,\n",
              " 304,\n",
              " 305,\n",
              " 306,\n",
              " 307,\n",
              " 308,\n",
              " 309,\n",
              " 310,\n",
              " 311,\n",
              " 312,\n",
              " 313,\n",
              " 314,\n",
              " 315,\n",
              " 316,\n",
              " 317,\n",
              " 318,\n",
              " 319,\n",
              " 320,\n",
              " 321,\n",
              " 322,\n",
              " 323,\n",
              " 324,\n",
              " 325,\n",
              " 326,\n",
              " 327,\n",
              " 328,\n",
              " 329,\n",
              " 330,\n",
              " 331,\n",
              " 332,\n",
              " 333,\n",
              " 334,\n",
              " 335,\n",
              " 336,\n",
              " 337,\n",
              " 338,\n",
              " 339,\n",
              " 340,\n",
              " 341,\n",
              " 342,\n",
              " 343,\n",
              " 344,\n",
              " 345,\n",
              " 346,\n",
              " 347,\n",
              " 348,\n",
              " 349,\n",
              " 350,\n",
              " 351,\n",
              " 352,\n",
              " 353,\n",
              " 354,\n",
              " 355,\n",
              " 356,\n",
              " 357,\n",
              " 358,\n",
              " 359,\n",
              " 360,\n",
              " 361,\n",
              " 362,\n",
              " 363,\n",
              " 364,\n",
              " 365,\n",
              " 366,\n",
              " 367,\n",
              " 368,\n",
              " 369,\n",
              " 370,\n",
              " 371,\n",
              " 372,\n",
              " 373,\n",
              " 374,\n",
              " 375,\n",
              " 376,\n",
              " 377,\n",
              " 378,\n",
              " 379,\n",
              " 380,\n",
              " 381,\n",
              " 382,\n",
              " 383,\n",
              " 384,\n",
              " 385,\n",
              " 386,\n",
              " 387,\n",
              " 388,\n",
              " 389,\n",
              " 390,\n",
              " 391,\n",
              " 392,\n",
              " 393,\n",
              " 394,\n",
              " 395,\n",
              " 396,\n",
              " 397,\n",
              " 398,\n",
              " 399,\n",
              " 400,\n",
              " 401,\n",
              " 402,\n",
              " 403,\n",
              " 404,\n",
              " 405,\n",
              " 406,\n",
              " 407,\n",
              " 408,\n",
              " 409,\n",
              " 410,\n",
              " 411,\n",
              " 412,\n",
              " 413,\n",
              " 414,\n",
              " 415,\n",
              " 416,\n",
              " 417,\n",
              " 418,\n",
              " 419,\n",
              " 420,\n",
              " 421,\n",
              " 422,\n",
              " 423,\n",
              " 424,\n",
              " 425,\n",
              " 426,\n",
              " 427,\n",
              " 428,\n",
              " 429,\n",
              " 430,\n",
              " 431,\n",
              " 432,\n",
              " 433,\n",
              " 434,\n",
              " 435,\n",
              " 436,\n",
              " 437,\n",
              " 438,\n",
              " 439,\n",
              " 440,\n",
              " 441,\n",
              " 442,\n",
              " 443,\n",
              " 444,\n",
              " 445,\n",
              " 446,\n",
              " 447,\n",
              " 448,\n",
              " 449,\n",
              " 450,\n",
              " 451,\n",
              " 452,\n",
              " 453,\n",
              " 454,\n",
              " 455,\n",
              " 456,\n",
              " 457,\n",
              " 458,\n",
              " 459,\n",
              " 460,\n",
              " 461,\n",
              " 462,\n",
              " 463,\n",
              " 464,\n",
              " 465,\n",
              " 466,\n",
              " 467,\n",
              " 468,\n",
              " 469,\n",
              " 470,\n",
              " 471,\n",
              " 472,\n",
              " 473,\n",
              " 474,\n",
              " 475,\n",
              " 476,\n",
              " 477,\n",
              " 478,\n",
              " 479,\n",
              " 480,\n",
              " 481,\n",
              " 482,\n",
              " 483,\n",
              " 484,\n",
              " 485,\n",
              " 486,\n",
              " 487,\n",
              " 488,\n",
              " 489,\n",
              " 490,\n",
              " 491,\n",
              " 492,\n",
              " 493,\n",
              " 494,\n",
              " 495,\n",
              " 496,\n",
              " 497,\n",
              " 498,\n",
              " 499,\n",
              " 500,\n",
              " 501,\n",
              " 502,\n",
              " 503,\n",
              " 504,\n",
              " 505,\n",
              " 506,\n",
              " 507,\n",
              " 508,\n",
              " 509,\n",
              " 510,\n",
              " 511,\n",
              " 512,\n",
              " 513,\n",
              " 514,\n",
              " 515,\n",
              " 516,\n",
              " 517,\n",
              " 518,\n",
              " 519,\n",
              " 520,\n",
              " 521,\n",
              " 522,\n",
              " 523,\n",
              " 524,\n",
              " 525,\n",
              " 526,\n",
              " 527,\n",
              " 528,\n",
              " 529,\n",
              " 530,\n",
              " 531,\n",
              " 532,\n",
              " 533,\n",
              " 534,\n",
              " 535,\n",
              " 536,\n",
              " 537,\n",
              " 538,\n",
              " 539,\n",
              " 540,\n",
              " 541,\n",
              " 542,\n",
              " 543,\n",
              " 544,\n",
              " 545,\n",
              " 546,\n",
              " 547,\n",
              " 548,\n",
              " 549,\n",
              " 550,\n",
              " 551,\n",
              " 552,\n",
              " 553,\n",
              " 554,\n",
              " 555,\n",
              " 556,\n",
              " 557,\n",
              " 558,\n",
              " 559,\n",
              " 560,\n",
              " 561,\n",
              " 562,\n",
              " 563,\n",
              " 564,\n",
              " 565,\n",
              " 566,\n",
              " 567,\n",
              " 568,\n",
              " 569,\n",
              " 570,\n",
              " 571,\n",
              " 572,\n",
              " 573,\n",
              " 574,\n",
              " 575,\n",
              " 576,\n",
              " 577,\n",
              " 578,\n",
              " 579,\n",
              " 580,\n",
              " 581,\n",
              " 582,\n",
              " 583,\n",
              " 584,\n",
              " 585,\n",
              " 586,\n",
              " 587,\n",
              " 588,\n",
              " 589,\n",
              " 590,\n",
              " 591,\n",
              " 592,\n",
              " 593,\n",
              " 594,\n",
              " 595,\n",
              " 596,\n",
              " 597,\n",
              " 598,\n",
              " 599,\n",
              " 600,\n",
              " 601,\n",
              " 602,\n",
              " 603,\n",
              " 604,\n",
              " 605,\n",
              " 606,\n",
              " 607,\n",
              " 608,\n",
              " 609,\n",
              " 610,\n",
              " 611,\n",
              " 612,\n",
              " 613,\n",
              " 614,\n",
              " 615,\n",
              " 616,\n",
              " 617,\n",
              " 618,\n",
              " 619,\n",
              " 620,\n",
              " 621,\n",
              " 622,\n",
              " 623,\n",
              " 624,\n",
              " 625,\n",
              " 626,\n",
              " 627,\n",
              " 628,\n",
              " 629,\n",
              " 630,\n",
              " 631,\n",
              " 632,\n",
              " 633,\n",
              " 634,\n",
              " 635,\n",
              " 636,\n",
              " 637,\n",
              " 638,\n",
              " 639,\n",
              " 640,\n",
              " 641,\n",
              " 642,\n",
              " 643,\n",
              " 644,\n",
              " 645,\n",
              " 646,\n",
              " 647,\n",
              " 648,\n",
              " 649,\n",
              " 650,\n",
              " 651,\n",
              " 652,\n",
              " 653,\n",
              " 654,\n",
              " 655,\n",
              " 656,\n",
              " 657,\n",
              " 658,\n",
              " 659,\n",
              " 660,\n",
              " 661,\n",
              " 662,\n",
              " 663,\n",
              " 664,\n",
              " 665,\n",
              " 666,\n",
              " 667,\n",
              " 668,\n",
              " 669,\n",
              " 670,\n",
              " 671,\n",
              " 672,\n",
              " 673,\n",
              " 674,\n",
              " 675,\n",
              " 676,\n",
              " 677,\n",
              " 678,\n",
              " 679,\n",
              " 680,\n",
              " 681,\n",
              " 682,\n",
              " 683,\n",
              " 684,\n",
              " 685,\n",
              " 686,\n",
              " 687,\n",
              " 688,\n",
              " 689,\n",
              " 690,\n",
              " 691,\n",
              " 692,\n",
              " 693,\n",
              " 694,\n",
              " 695,\n",
              " 696,\n",
              " 697,\n",
              " 698,\n",
              " 699,\n",
              " 700,\n",
              " 701,\n",
              " 702,\n",
              " 703,\n",
              " 704,\n",
              " 705,\n",
              " 706,\n",
              " 707,\n",
              " 708,\n",
              " 709,\n",
              " 710,\n",
              " 711,\n",
              " 712,\n",
              " 713,\n",
              " 714,\n",
              " 715,\n",
              " 716,\n",
              " 717,\n",
              " 718,\n",
              " 719,\n",
              " 720,\n",
              " 721,\n",
              " 722,\n",
              " 723,\n",
              " 724,\n",
              " 725,\n",
              " 726,\n",
              " 727,\n",
              " 728,\n",
              " 729,\n",
              " 730,\n",
              " 731,\n",
              " 732,\n",
              " 733,\n",
              " 734,\n",
              " 735,\n",
              " 736,\n",
              " 737,\n",
              " 738,\n",
              " 739,\n",
              " 740,\n",
              " 741,\n",
              " 742,\n",
              " 743,\n",
              " 744,\n",
              " 745,\n",
              " 746,\n",
              " 747,\n",
              " 748,\n",
              " 749,\n",
              " 750,\n",
              " 751,\n",
              " 752,\n",
              " 753,\n",
              " 754,\n",
              " 755,\n",
              " 756,\n",
              " 757,\n",
              " 758,\n",
              " 759,\n",
              " 760,\n",
              " 761,\n",
              " 762,\n",
              " 763,\n",
              " 764,\n",
              " 765,\n",
              " 766,\n",
              " 767,\n",
              " 768,\n",
              " 769,\n",
              " 770,\n",
              " 771,\n",
              " 772,\n",
              " 773,\n",
              " 774,\n",
              " 775,\n",
              " 776,\n",
              " 777,\n",
              " 778,\n",
              " 779,\n",
              " 780,\n",
              " 781,\n",
              " 782,\n",
              " 783,\n",
              " 784,\n",
              " 785,\n",
              " 786,\n",
              " 787,\n",
              " 788,\n",
              " 789,\n",
              " 790,\n",
              " 791,\n",
              " 792,\n",
              " 793,\n",
              " 794,\n",
              " 795,\n",
              " 796,\n",
              " 797,\n",
              " 798,\n",
              " 799,\n",
              " 800,\n",
              " 801,\n",
              " 802,\n",
              " 803,\n",
              " 804,\n",
              " 805,\n",
              " 806,\n",
              " 807,\n",
              " 808,\n",
              " 809,\n",
              " 810,\n",
              " 811,\n",
              " 812,\n",
              " 813,\n",
              " 814,\n",
              " 815,\n",
              " 816,\n",
              " 817,\n",
              " 818,\n",
              " 819,\n",
              " 820,\n",
              " 821,\n",
              " 822,\n",
              " 823,\n",
              " 824,\n",
              " 825,\n",
              " 826,\n",
              " 827,\n",
              " 828,\n",
              " 829,\n",
              " 830,\n",
              " 831,\n",
              " 832,\n",
              " 833,\n",
              " 834,\n",
              " 835,\n",
              " 836,\n",
              " 837,\n",
              " 838,\n",
              " 839,\n",
              " 840,\n",
              " 841,\n",
              " 842,\n",
              " 843,\n",
              " 844,\n",
              " 845,\n",
              " 846,\n",
              " 847,\n",
              " 848,\n",
              " 849,\n",
              " 850,\n",
              " 851,\n",
              " 852,\n",
              " 853,\n",
              " 854,\n",
              " 855,\n",
              " 856,\n",
              " 857,\n",
              " 858,\n",
              " 859,\n",
              " 860,\n",
              " 861,\n",
              " 862,\n",
              " 863,\n",
              " 864,\n",
              " 865,\n",
              " 866,\n",
              " 867,\n",
              " 868,\n",
              " 869,\n",
              " 870,\n",
              " 871,\n",
              " 872,\n",
              " 873,\n",
              " 874,\n",
              " 875,\n",
              " 876,\n",
              " 877,\n",
              " 878,\n",
              " 879,\n",
              " 880,\n",
              " 881,\n",
              " 882,\n",
              " 883,\n",
              " 884,\n",
              " 885,\n",
              " 886,\n",
              " 887,\n",
              " 888,\n",
              " 889,\n",
              " 890,\n",
              " 891,\n",
              " 892,\n",
              " 893,\n",
              " 894,\n",
              " 895,\n",
              " 896,\n",
              " 897,\n",
              " 898,\n",
              " 899,\n",
              " 900,\n",
              " 901,\n",
              " 902,\n",
              " 903,\n",
              " 904,\n",
              " 905,\n",
              " 906,\n",
              " 907,\n",
              " 908,\n",
              " 909,\n",
              " 910,\n",
              " 911,\n",
              " 912,\n",
              " 913,\n",
              " 914,\n",
              " 915,\n",
              " 916,\n",
              " 917,\n",
              " 918,\n",
              " 919,\n",
              " 920,\n",
              " 921,\n",
              " 922,\n",
              " 923,\n",
              " 924,\n",
              " 925,\n",
              " 926,\n",
              " 927,\n",
              " 928,\n",
              " 929,\n",
              " 930,\n",
              " 931,\n",
              " 932,\n",
              " 933,\n",
              " 934,\n",
              " 935,\n",
              " 936,\n",
              " 937,\n",
              " 938,\n",
              " 939,\n",
              " 940,\n",
              " 941,\n",
              " 942,\n",
              " 943,\n",
              " 944,\n",
              " 945,\n",
              " 946,\n",
              " 947,\n",
              " 948,\n",
              " 949,\n",
              " 950,\n",
              " 951,\n",
              " 952,\n",
              " 953,\n",
              " 954,\n",
              " 955,\n",
              " 956,\n",
              " 957,\n",
              " 958,\n",
              " 959,\n",
              " 960,\n",
              " 961,\n",
              " 962,\n",
              " 963,\n",
              " 964,\n",
              " 965,\n",
              " 966,\n",
              " 967,\n",
              " 968,\n",
              " 969,\n",
              " 970,\n",
              " 971,\n",
              " 972,\n",
              " 973,\n",
              " 974,\n",
              " 975,\n",
              " 976,\n",
              " 977,\n",
              " 978,\n",
              " 979,\n",
              " 980,\n",
              " 981,\n",
              " 982,\n",
              " 983,\n",
              " 984,\n",
              " 985,\n",
              " 986,\n",
              " 987,\n",
              " 988,\n",
              " 989,\n",
              " 990,\n",
              " 991,\n",
              " 992,\n",
              " 993,\n",
              " 994,\n",
              " 995,\n",
              " 996,\n",
              " 997,\n",
              " 998,\n",
              " 999,\n",
              " ...]"
            ]
          },
          "metadata": {},
          "execution_count": 12
        }
      ]
    },
    {
      "cell_type": "markdown",
      "source": [
        "Question 17:- write a python program to create and write a list of numbers to a file, one number per line"
      ],
      "metadata": {
        "id": "Oy-ZD_ESbUoF"
      }
    },
    {
      "cell_type": "code",
      "source": [
        "numbers = [1, 2, 3, 4, 5]\n",
        "with open(\"numbers.txt\", \"w\") as file:\n",
        "    for num in numbers:\n",
        "        file.write(f\"{num}\\n\")\n",
        "print(\"NUMBERS HAVE BEEN WRITTEN TO 'numbers.txt'\")"
      ],
      "metadata": {
        "colab": {
          "base_uri": "https://localhost:8080/"
        },
        "id": "eOHl7eFRbxLk",
        "outputId": "53741f6e-3e2a-42d5-c214-dccc0932aaae"
      },
      "execution_count": 13,
      "outputs": [
        {
          "output_type": "stream",
          "name": "stdout",
          "text": [
            "NUMBERS HAVE BEEN WRITTEN TO 'numbers.txt'\n"
          ]
        }
      ]
    },
    {
      "cell_type": "markdown",
      "source": [
        "Question 18:- how would you implement a basic logging setup that logs to a file with rotation like IMB"
      ],
      "metadata": {
        "id": "Tg1ylz20cIqS"
      }
    },
    {
      "cell_type": "code",
      "source": [
        "import logging\n",
        "from logging.handlers import RotatingFileHandler\n",
        "handler = RotatingFileHandler(\"app.log\", maxBytes=1024, backupCount=3)\n",
        "logging.basicConfig(handlers=[handler], level=logging.INFO, format=\"%(asctime)s - %(message)s\")\n",
        "for i in range(50):\n",
        "    logging.info(f\"Message {i}\")"
      ],
      "metadata": {
        "id": "nxGzfCGPccRM"
      },
      "execution_count": 14,
      "outputs": []
    },
    {
      "cell_type": "markdown",
      "source": [
        "Question 19:- write a program that handles both indexerror and keyerror using a try-except block"
      ],
      "metadata": {
        "id": "FdVxjFSZdIdx"
      }
    },
    {
      "cell_type": "code",
      "source": [
        "data_list = [10, 20, 30]\n",
        "data_dict = {\"a\": 1, \"b\": 2}\n",
        "try:\n",
        "    print(data_list[5])\n",
        "    print(data_dict[\"z\"])\n",
        "except IndexError:\n",
        "    print(\"INDEX ERROR: LIST INDEX OUT OF RANGE.\")\n",
        "except KeyError:\n",
        "    print(\"KEY ERROR: SPECIFIED KEY NOT FOUND.\")"
      ],
      "metadata": {
        "colab": {
          "base_uri": "https://localhost:8080/"
        },
        "id": "hHA_5PUVdWgf",
        "outputId": "6111ae64-2d13-462c-e92a-a9f99cc0d7cf"
      },
      "execution_count": 15,
      "outputs": [
        {
          "output_type": "stream",
          "name": "stdout",
          "text": [
            "INDEX ERROR: LIST INDEX OUT OF RANGE.\n"
          ]
        }
      ]
    },
    {
      "cell_type": "markdown",
      "source": [
        "Question 20:- how would you open a file and read its content using a context manager in python"
      ],
      "metadata": {
        "id": "ZA7Uaf3Pdsx0"
      }
    },
    {
      "cell_type": "code",
      "source": [
        "# STEP 1: CREATE A SAMPLE FILE\n",
        "with open(\"sample.txt\", \"w\") as file:\n",
        "    file.write(\"Hello, this is some sample text.\\nSecond line here.\")\n",
        "# STEP 2: READ THE FILE USING CONTEXT MANAGER\n",
        "with open(\"sample.txt\", \"r\") as file:\n",
        "    content = file.read()\n",
        "print(content)"
      ],
      "metadata": {
        "colab": {
          "base_uri": "https://localhost:8080/"
        },
        "id": "lfVz8LrYemnn",
        "outputId": "3c3b2319-0e94-4b73-de1d-27a8ee30298b"
      },
      "execution_count": 17,
      "outputs": [
        {
          "output_type": "stream",
          "name": "stdout",
          "text": [
            "Hello, this is some sample text.\n",
            "Second line here.\n"
          ]
        }
      ]
    },
    {
      "cell_type": "markdown",
      "source": [
        "Question 21:- write a python program that reads a file and prints the number of occurences of a specific word"
      ],
      "metadata": {
        "id": "Htp0d0DAerx5"
      }
    },
    {
      "cell_type": "code",
      "source": [
        "with open(\"sample.txt\", \"w\") as file:\n",
        "    file.write(\"apple banana apple orange apple banana\")\n",
        "target_word = \"apple\"\n",
        "with open(\"sample.txt\", \"r\") as file:\n",
        "    content = file.read()\n",
        "count = content.split().count(target_word)\n",
        "print(f\"The word '{target_word}' occurs {count} times.\")"
      ],
      "metadata": {
        "colab": {
          "base_uri": "https://localhost:8080/"
        },
        "id": "Qz2ivvSGfTT1",
        "outputId": "d229da27-7700-4335-932e-fe1c17aaa84b"
      },
      "execution_count": 18,
      "outputs": [
        {
          "output_type": "stream",
          "name": "stdout",
          "text": [
            "The word 'apple' occurs 3 times.\n"
          ]
        }
      ]
    },
    {
      "cell_type": "markdown",
      "source": [
        "Question 22:- How can you check if a file is empty before attempting to read its content"
      ],
      "metadata": {
        "id": "HtE5bUxAf6_u"
      }
    },
    {
      "cell_type": "code",
      "source": [
        "import os\n",
        "filename = \"sample.txt\"\n",
        "open(filename, \"w\").close()\n",
        "if os.stat(filename).st_size == 0:\n",
        "    print(\"The file is empty.\")\n",
        "else:\n",
        "    with open(filename, \"r\") as file:\n",
        "        content = file.read()\n",
        "        print(content)"
      ],
      "metadata": {
        "colab": {
          "base_uri": "https://localhost:8080/"
        },
        "id": "tsXwEj8lgL1P",
        "outputId": "3b74dc11-0428-4780-8feb-57401713d042"
      },
      "execution_count": 19,
      "outputs": [
        {
          "output_type": "stream",
          "name": "stdout",
          "text": [
            "The file is empty.\n"
          ]
        }
      ]
    },
    {
      "cell_type": "markdown",
      "source": [
        "Question 23:- write a python program that writes to a log file when an error occurs during file handling"
      ],
      "metadata": {
        "id": "4usAQj0dgggr"
      }
    },
    {
      "cell_type": "code",
      "source": [
        "import logging\n",
        "# SET UP LOGGING TO A FILE\n",
        "logging.basicConfig(filename=\"error.log\", level=logging.ERROR,\n",
        "                    format=\"%(asctime)s - %(levelname)s - %(message)s\")\n",
        "filename = \"non_existing_file.txt\"\n",
        "try:\n",
        "    with open(filename, \"r\") as file:\n",
        "        content = file.read()\n",
        "        print(content)\n",
        "except FileNotFoundError as e:\n",
        "    logging.error(f\"File not found: {filename} | {e}\")\n",
        "    print(\"An error occurred. Check 'error.log' for details.\")\n",
        "except Exception as e:\n",
        "    logging.error(f\"Unexpected error: {e}\")"
      ],
      "metadata": {
        "colab": {
          "base_uri": "https://localhost:8080/"
        },
        "id": "gnddW98Fgumg",
        "outputId": "641f5594-0923-4c6f-ef00-87652c82be77"
      },
      "execution_count": 20,
      "outputs": [
        {
          "output_type": "stream",
          "name": "stderr",
          "text": [
            "ERROR:root:File not found: non_existing_file.txt | [Errno 2] No such file or directory: 'non_existing_file.txt'\n"
          ]
        },
        {
          "output_type": "stream",
          "name": "stdout",
          "text": [
            "An error occurred. Check 'error.log' for details.\n"
          ]
        }
      ]
    }
  ]
}